{
 "cells": [
  {
   "cell_type": "code",
   "execution_count": 1,
   "id": "dda1aaa1",
   "metadata": {},
   "outputs": [],
   "source": [
    "height = [1,8,6,2,5,4,8,3,7]"
   ]
  },
  {
   "cell_type": "code",
   "execution_count": 2,
   "id": "b62c999c",
   "metadata": {},
   "outputs": [],
   "source": [
    "left, right = 0, (len(height)-1)\n",
    "area = 0"
   ]
  },
  {
   "cell_type": "code",
   "execution_count": 3,
   "id": "b189af41",
   "metadata": {},
   "outputs": [
    {
     "name": "stdout",
     "output_type": "stream",
     "text": [
      "49\n"
     ]
    }
   ],
   "source": [
    "while left < right:\n",
    "    area = max(area, (right-left)*(min(height[left], height[right])))\n",
    "    if height[left] < height[right]:\n",
    "        left += 1\n",
    "    else:\n",
    "        right -= 1\n",
    "\n",
    "print(area)"
   ]
  }
 ],
 "metadata": {
  "kernelspec": {
   "display_name": "Python 3 (ipykernel)",
   "language": "python",
   "name": "python3"
  },
  "language_info": {
   "codemirror_mode": {
    "name": "ipython",
    "version": 3
   },
   "file_extension": ".py",
   "mimetype": "text/x-python",
   "name": "python",
   "nbconvert_exporter": "python",
   "pygments_lexer": "ipython3",
   "version": "3.9.12"
  }
 },
 "nbformat": 4,
 "nbformat_minor": 5
}
