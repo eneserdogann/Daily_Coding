{
 "cells": [
  {
   "cell_type": "code",
   "execution_count": 1,
   "id": "768b156a",
   "metadata": {},
   "outputs": [],
   "source": [
    "arr = [[1,2,3],[3,2,1]]"
   ]
  },
  {
   "cell_type": "code",
   "execution_count": 2,
   "id": "d63f3cec",
   "metadata": {},
   "outputs": [],
   "source": [
    "num=0\n",
    "max=0"
   ]
  },
  {
   "cell_type": "code",
   "execution_count": 3,
   "id": "67cd8545",
   "metadata": {},
   "outputs": [
    {
     "name": "stdout",
     "output_type": "stream",
     "text": [
      "6\n",
      "6\n"
     ]
    }
   ],
   "source": [
    "for n in range(len(arr)):\n",
    "    summ = 0\n",
    "    for m in range(len(arr[n])):\n",
    "        summ = summ + arr[n][m]\n",
    "    max = summ\n",
    "\n",
    "    if(max>=num):\n",
    "        num = max\n",
    "        print(num)"
   ]
  },
  {
   "cell_type": "code",
   "execution_count": 4,
   "id": "ebef4fd8",
   "metadata": {},
   "outputs": [],
   "source": [
    "# basic answer"
   ]
  },
  {
   "cell_type": "code",
   "execution_count": 8,
   "id": "9bc6b9e9",
   "metadata": {},
   "outputs": [],
   "source": [
    "#------------------------------------------- with input"
   ]
  },
  {
   "cell_type": "code",
   "execution_count": 6,
   "id": "7b0d5080",
   "metadata": {},
   "outputs": [],
   "source": [
    "arr = [[],[]]"
   ]
  },
  {
   "cell_type": "code",
   "execution_count": 7,
   "id": "133823a6",
   "metadata": {},
   "outputs": [
    {
     "name": "stdout",
     "output_type": "stream",
     "text": [
      "Enter the list items : 2\n",
      "Enter the list items : 2\n",
      "2\n"
     ]
    }
   ],
   "source": [
    "for d in range(len(arr)):\n",
    "    arr[d] = [int(item) for item in input(\"Enter the list items : \").split()]\n",
    "num=0\n",
    "max=0\n",
    "for n in range(len(arr)):\n",
    "    summ = 0\n",
    "    for m in range(len(arr[n])):\n",
    "        summ = summ + arr[n][m]\n",
    "    max = summ\n",
    "\n",
    "    if(max>=num):\n",
    "        num = max\n",
    "print(num)"
   ]
  }
 ],
 "metadata": {
  "kernelspec": {
   "display_name": "Python 3 (ipykernel)",
   "language": "python",
   "name": "python3"
  },
  "language_info": {
   "codemirror_mode": {
    "name": "ipython",
    "version": 3
   },
   "file_extension": ".py",
   "mimetype": "text/x-python",
   "name": "python",
   "nbconvert_exporter": "python",
   "pygments_lexer": "ipython3",
   "version": "3.9.12"
  }
 },
 "nbformat": 4,
 "nbformat_minor": 5
}
