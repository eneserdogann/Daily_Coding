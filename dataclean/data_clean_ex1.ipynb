{
 "cells": [
  {
   "cell_type": "code",
   "execution_count": 8,
   "id": "9d7757e2",
   "metadata": {},
   "outputs": [],
   "source": [
    "file = open('C:\\\\Users\\\\enesl\\\\Desktop\\\\dataclean\\\\employee_revenue.txt')"
   ]
  },
  {
   "cell_type": "code",
   "execution_count": 9,
   "id": "c7fab4b6",
   "metadata": {},
   "outputs": [],
   "source": [
    "data = file.read()"
   ]
  },
  {
   "cell_type": "code",
   "execution_count": 11,
   "id": "c323839b",
   "metadata": {},
   "outputs": [
    {
     "data": {
      "text/plain": [
       "'  Ben made 300 calls and generated 2400 dollars last Month with an 8$ average deal size.  \\nomer called 10 times and Sold 2 courses generated 60 dollars last month with a 6$ average deal size.\\n   KAren called 500 people and achieved success by GETting 24$ average deal size, got 12000 dollars revenue.     \\nCeline with 70 calls, made 2275 dollars and 32$ average deal size IN the previous month.  \\n     Sue called 100 people and earned 500 Dollars in REvenue and an AVERAGE DEAL SIZE of 5$ Last month.\\nBora called 100 people generated 770 dollars last month, his average deal size was 25$.  \\nRose made 600 phone calls and GENERATING 4000 dollars a past month 25$ average deal SIZE. \\nEllen made 800 calls and generated 6000 dollars a prior mONTH and reached 40$ the average deal size. \\n bob made 200 phone calls, helped to make a proGress and generated 800 dollars LAST MONTH and gaining 15$ average deal size.\\nTaylor, with 450 calls generated 1200 dollars in revenue pASt month, and the average deal size was 10$. \\n  JuDE made 80 calls and earned 500 dollars for the company last month, her average deal size was 12$.'"
      ]
     },
     "execution_count": 11,
     "metadata": {},
     "output_type": "execute_result"
    }
   ],
   "source": [
    "data"
   ]
  },
  {
   "cell_type": "code",
   "execution_count": 37,
   "id": "5b3d5fdd",
   "metadata": {
    "scrolled": true
   },
   "outputs": [
    {
     "data": {
      "text/plain": [
       "['  Ben made 300 calls and generated 2400 dollars last Month with an 8$ average deal size.  ',\n",
       " 'omer called 10 times and Sold 2 courses generated 60 dollars last month with a 6$ average deal size.',\n",
       " '   KAren called 500 people and achieved success by GETting 24$ average deal size, got 12000 dollars revenue.     ',\n",
       " 'Celine with 70 calls, made 2275 dollars and 32$ average deal size IN the previous month.  ',\n",
       " '     Sue called 100 people and earned 500 Dollars in REvenue and an AVERAGE DEAL SIZE of 5$ Last month.',\n",
       " 'Bora called 100 people generated 770 dollars last month, his average deal size was 25$.  ',\n",
       " 'Rose made 600 phone calls and GENERATING 4000 dollars a past month 25$ average deal SIZE. ',\n",
       " 'Ellen made 800 calls and generated 6000 dollars a prior mONTH and reached 40$ the average deal size. ',\n",
       " ' bob made 200 phone calls, helped to make a proGress and generated 800 dollars LAST MONTH and gaining 15$ average deal size.',\n",
       " 'Taylor, with 450 calls generated 1200 dollars in revenue pASt month, and the average deal size was 10$. ',\n",
       " '  JuDE made 80 calls and earned 500 dollars for the company last month, her average deal size was 12$.']"
      ]
     },
     "execution_count": 37,
     "metadata": {},
     "output_type": "execute_result"
    }
   ],
   "source": [
    "lines = data.splitlines()\n",
    "lines"
   ]
  },
  {
   "cell_type": "code",
   "execution_count": 38,
   "id": "9553ed39",
   "metadata": {},
   "outputs": [
    {
     "data": {
      "text/plain": [
       "'  Ben made 300 calls and generated 2400 dollars last Month with an 8$ average deal size.  '"
      ]
     },
     "execution_count": 38,
     "metadata": {},
     "output_type": "execute_result"
    }
   ],
   "source": [
    "string = lines[0]\n",
    "string"
   ]
  },
  {
   "cell_type": "code",
   "execution_count": 40,
   "id": "d636a582",
   "metadata": {},
   "outputs": [
    {
     "data": {
      "text/plain": [
       "'Ben made 300 calls and generated 2400 dollars last Month with an 8$ average deal size.'"
      ]
     },
     "execution_count": 40,
     "metadata": {},
     "output_type": "execute_result"
    }
   ],
   "source": [
    "string = string.strip(\" \")\n",
    "string"
   ]
  },
  {
   "cell_type": "code",
   "execution_count": 41,
   "id": "57b87ade",
   "metadata": {},
   "outputs": [
    {
     "data": {
      "text/plain": [
       "'ben made 300 calls and generated 2400 dollars last month with an 8$ average deal size.'"
      ]
     },
     "execution_count": 41,
     "metadata": {},
     "output_type": "execute_result"
    }
   ],
   "source": [
    "string = string.lower()\n",
    "string"
   ]
  },
  {
   "cell_type": "code",
   "execution_count": 42,
   "id": "25dabf0b",
   "metadata": {},
   "outputs": [
    {
     "data": {
      "text/plain": [
       "'Ben made 300 calls and generated 2400 dollars last month with an 8$ average deal size.'"
      ]
     },
     "execution_count": 42,
     "metadata": {},
     "output_type": "execute_result"
    }
   ],
   "source": [
    "string = string.capitalize()\n",
    "string"
   ]
  },
  {
   "cell_type": "code",
   "execution_count": 44,
   "id": "3a39f934",
   "metadata": {},
   "outputs": [
    {
     "data": {
      "text/plain": [
       "['Ben',\n",
       " 'made',\n",
       " '300',\n",
       " 'calls',\n",
       " 'and',\n",
       " 'generated',\n",
       " '2400',\n",
       " 'dollars',\n",
       " 'last',\n",
       " 'month',\n",
       " 'with',\n",
       " 'an',\n",
       " '8$',\n",
       " 'average',\n",
       " 'deal',\n",
       " 'size.']"
      ]
     },
     "execution_count": 44,
     "metadata": {},
     "output_type": "execute_result"
    }
   ],
   "source": [
    "string_split = string.split(\" \")\n",
    "string_split"
   ]
  },
  {
   "cell_type": "code",
   "execution_count": 45,
   "id": "06fa5268",
   "metadata": {},
   "outputs": [
    {
     "data": {
      "text/plain": [
       "'Ben'"
      ]
     },
     "execution_count": 45,
     "metadata": {},
     "output_type": "execute_result"
    }
   ],
   "source": [
    "name = string_split[0]\n",
    "name"
   ]
  },
  {
   "cell_type": "code",
   "execution_count": 46,
   "id": "fa195c30",
   "metadata": {},
   "outputs": [
    {
     "data": {
      "text/plain": [
       "'300'"
      ]
     },
     "execution_count": 46,
     "metadata": {},
     "output_type": "execute_result"
    }
   ],
   "source": [
    "call_number = string_split[2]\n",
    "call_number"
   ]
  },
  {
   "cell_type": "code",
   "execution_count": 49,
   "id": "d93de6d5",
   "metadata": {},
   "outputs": [
    {
     "data": {
      "text/plain": [
       "'8'"
      ]
     },
     "execution_count": 49,
     "metadata": {},
     "output_type": "execute_result"
    }
   ],
   "source": [
    "# finding dollar symbol's value\n",
    "\n",
    "for i in string_split:\n",
    "    if '$' in i:\n",
    "        average_deal_size = i.split('$')[0]\n",
    "\n",
    "average_deal_size"
   ]
  },
  {
   "cell_type": "code",
   "execution_count": 48,
   "id": "25bc4696",
   "metadata": {},
   "outputs": [
    {
     "data": {
      "text/plain": [
       "7"
      ]
     },
     "execution_count": 48,
     "metadata": {},
     "output_type": "execute_result"
    }
   ],
   "source": [
    "# finding index of dollars\n",
    "\n",
    "index_dollar = string_split.index('dollars')\n",
    "index_dollar"
   ]
  },
  {
   "cell_type": "code",
   "execution_count": 51,
   "id": "610015d6",
   "metadata": {},
   "outputs": [
    {
     "data": {
      "text/plain": [
       "'2400'"
      ]
     },
     "execution_count": 51,
     "metadata": {},
     "output_type": "execute_result"
    }
   ],
   "source": [
    "revenue_index = index_dollar-1\n",
    "string_split[revenue_index]"
   ]
  },
  {
   "cell_type": "code",
   "execution_count": 53,
   "id": "b2f8997c",
   "metadata": {},
   "outputs": [
    {
     "name": "stdout",
     "output_type": "stream",
     "text": [
      "name : Ben\n",
      "call number : 300\n",
      "average deal size : 8\n",
      "revenue : 2400\n"
     ]
    }
   ],
   "source": [
    "# print info\n",
    "\n",
    "print(f\"\"\"name : {name}\n",
    "call number : {call_number}\n",
    "average deal size : {average_deal_size}\n",
    "revenue : {string_split[revenue_index]}\"\"\")\n",
    "      "
   ]
  },
  {
   "cell_type": "code",
   "execution_count": 55,
   "id": "a83dce0b",
   "metadata": {},
   "outputs": [],
   "source": [
    "# create function to all lines"
   ]
  },
  {
   "cell_type": "code",
   "execution_count": 56,
   "id": "801582ca",
   "metadata": {},
   "outputs": [],
   "source": [
    "names = []\n",
    "call_numbers = []\n",
    "avg_deal_sizes = []\n",
    "revenues = []"
   ]
  },
  {
   "cell_type": "code",
   "execution_count": 62,
   "id": "a1904810",
   "metadata": {},
   "outputs": [],
   "source": [
    "def clean_data():\n",
    "    for employee in lines:\n",
    "        #clean string\n",
    "        employee = employee.strip(' ')\n",
    "        employee = employee.lower()\n",
    "        employee = employee.capitalize()\n",
    "        \n",
    "        #split the clean split\n",
    "        split_emp = employee.split(' ')\n",
    "        \n",
    "        #extract the name\n",
    "        name = split_emp[0]\n",
    "        call_number = split_emp[2]\n",
    "        \n",
    "        #extract average deal size\n",
    "        for i in split_emp:\n",
    "            if '$' in i:\n",
    "                avg_deal_size = i.split('$')[0]\n",
    "                \n",
    "        #extract revenue\n",
    "        dollars_index = split_emp.index('dollars')\n",
    "        revenue = split_emp[dollars_index-1]\n",
    "        \n",
    "        #convert to the correct data type\n",
    "        call_number = int(call_number)\n",
    "        avg_deal_size = int(avg_deal_size)\n",
    "        revenue = int(revenue)\n",
    "        \n",
    "        #append the informations to the list\n",
    "        names.append(name)\n",
    "        call_numbers.append(call_number)\n",
    "        avg_deal_sizes.append(avg_deal_size)\n",
    "        revenues.append(revenue)\n",
    "    \n",
    "    return names,call_numbers,avg_deal_sizes,revenues\n",
    "            "
   ]
  },
  {
   "cell_type": "code",
   "execution_count": 63,
   "id": "4e888b16",
   "metadata": {
    "scrolled": true
   },
   "outputs": [],
   "source": [
    "names, call_numbers, avg_deal_sizes, revenues = clean_data()"
   ]
  },
  {
   "cell_type": "code",
   "execution_count": 66,
   "id": "872ec5d3",
   "metadata": {},
   "outputs": [
    {
     "name": "stdout",
     "output_type": "stream",
     "text": [
      "names : ['Ben', 'Omer', 'Karen', 'Celine', 'Sue', 'Bora', 'Rose', 'Ellen', 'Bob', 'Taylor,', 'Jude']\n",
      "call numbers : [300, 10, 500, 70, 100, 100, 600, 800, 200, 450, 80]\n",
      "average deal sizes : [8, 6, 24, 32, 5, 25, 25, 40, 15, 10, 12]\n",
      "revenues : [2400, 60, 12000, 2275, 500, 770, 4000, 6000, 800, 1200, 500]\n"
     ]
    }
   ],
   "source": [
    "print('names :', names)\n",
    "print('call numbers :', call_numbers)\n",
    "print('average deal sizes :', avg_deal_sizes)\n",
    "print('revenues :', revenues)"
   ]
  },
  {
   "cell_type": "code",
   "execution_count": 67,
   "id": "e8e9ee85",
   "metadata": {},
   "outputs": [
    {
     "data": {
      "text/plain": [
       "11"
      ]
     },
     "execution_count": 67,
     "metadata": {},
     "output_type": "execute_result"
    }
   ],
   "source": [
    "#check the number of employees\n",
    "\n",
    "number_emp = len(names)\n",
    "number_emp"
   ]
  },
  {
   "cell_type": "code",
   "execution_count": 68,
   "id": "428c70c8",
   "metadata": {},
   "outputs": [
    {
     "data": {
      "text/plain": [
       "[0, 1, 2, 3, 4, 5, 6, 7, 8, 9, 10]"
      ]
     },
     "execution_count": 68,
     "metadata": {},
     "output_type": "execute_result"
    }
   ],
   "source": [
    "IDs = list(range(0,11))\n",
    "IDs"
   ]
  },
  {
   "cell_type": "code",
   "execution_count": 72,
   "id": "e1eb1239",
   "metadata": {},
   "outputs": [
    {
     "data": {
      "text/plain": [
       "{0: 'Ben',\n",
       " 1: 'Omer',\n",
       " 2: 'Karen',\n",
       " 3: 'Celine',\n",
       " 4: 'Sue',\n",
       " 5: 'Bora',\n",
       " 6: 'Rose',\n",
       " 7: 'Ellen',\n",
       " 8: 'Bob',\n",
       " 9: 'Taylor,',\n",
       " 10: 'Jude'}"
      ]
     },
     "execution_count": 72,
     "metadata": {},
     "output_type": "execute_result"
    }
   ],
   "source": [
    "#create dict\n",
    "\n",
    "dictionary1 = dict(zip(IDs,names))\n",
    "dictionary1"
   ]
  },
  {
   "cell_type": "code",
   "execution_count": 83,
   "id": "bd878222",
   "metadata": {},
   "outputs": [
    {
     "data": {
      "text/plain": [
       "{2400: 'Ben',\n",
       " 60: 'Omer',\n",
       " 12000: 'Karen',\n",
       " 2275: 'Celine',\n",
       " 500: 'Jude',\n",
       " 770: 'Bora',\n",
       " 4000: 'Rose',\n",
       " 6000: 'Ellen',\n",
       " 800: 'Bob',\n",
       " 1200: 'Taylor,'}"
      ]
     },
     "execution_count": 83,
     "metadata": {},
     "output_type": "execute_result"
    }
   ],
   "source": [
    "dictionary2 = dict(zip(revenues,names))\n",
    "dictionary2"
   ]
  },
  {
   "cell_type": "code",
   "execution_count": 84,
   "id": "56c41a8b",
   "metadata": {},
   "outputs": [
    {
     "name": "stdout",
     "output_type": "stream",
     "text": [
      "Omer\n",
      "Jude\n",
      "Bora\n"
     ]
    }
   ],
   "source": [
    "#en az çalışanlar\n",
    "sorted_dictionary = sorted(dictionary2)[0:3]\n",
    "\n",
    "for i in sorted_dictionary:\n",
    "    print(dictionary2[i])"
   ]
  },
  {
   "cell_type": "code",
   "execution_count": 89,
   "id": "f355b8a4",
   "metadata": {},
   "outputs": [
    {
     "name": "stdout",
     "output_type": "stream",
     "text": [
      "Karen\n",
      "Ellen\n",
      "Rose\n"
     ]
    }
   ],
   "source": [
    "#en çok çalışanlar\n",
    "sorted_dictionary = sorted(dictionary2, reverse = True)[0:3]\n",
    "\n",
    "for i in sorted_dictionary:\n",
    "    print(dictionary2[i])"
   ]
  },
  {
   "cell_type": "code",
   "execution_count": 95,
   "id": "9ed9f8af",
   "metadata": {},
   "outputs": [],
   "source": [
    "list1 = ['ben','halsi','sdkf']\n",
    "list2 = [1234,1222,12121,1111,2344]"
   ]
  },
  {
   "cell_type": "code",
   "execution_count": 96,
   "id": "c6835fd3",
   "metadata": {},
   "outputs": [
    {
     "data": {
      "text/plain": [
       "{'ben': 1234, 'halsi': 1222, 'sdkf': 12121}"
      ]
     },
     "execution_count": 96,
     "metadata": {},
     "output_type": "execute_result"
    }
   ],
   "source": [
    "dicti = dict(zip(list1,list2))\n",
    "dicti"
   ]
  },
  {
   "cell_type": "code",
   "execution_count": null,
   "id": "8e768345",
   "metadata": {},
   "outputs": [],
   "source": []
  }
 ],
 "metadata": {
  "kernelspec": {
   "display_name": "Python 3 (ipykernel)",
   "language": "python",
   "name": "python3"
  },
  "language_info": {
   "codemirror_mode": {
    "name": "ipython",
    "version": 3
   },
   "file_extension": ".py",
   "mimetype": "text/x-python",
   "name": "python",
   "nbconvert_exporter": "python",
   "pygments_lexer": "ipython3",
   "version": "3.9.12"
  }
 },
 "nbformat": 4,
 "nbformat_minor": 5
}
