{
 "cells": [
  {
   "cell_type": "code",
   "execution_count": 1,
   "id": "5219273b",
   "metadata": {},
   "outputs": [],
   "source": [
    "class HealthInsurance:\n",
    "    def __init__(self,company_name,foundation_year,founder_name,company_slogan,num_of_employees,num_of_clients):\n",
    "        self.company_name = company_name\n",
    "        self.foundation_year = foundation_year\n",
    "        self.founder_name = founder_name\n",
    "        self.company_slogan = company_slogan\n",
    "        self.num_of_employees = num_of_employees\n",
    "        self.num_of_clients = num_of_clients\n",
    "        \n",
    "    def printReport(self):\n",
    "        print(f\"\"\"The company name {self.company_name} was founded in {self.foundation_year}.\n",
    "        The founder of the company {self.founder_name}.\n",
    "        Company slogan is '{self.company_slogan}'.\n",
    "        Number of employees {self.num_of_employees}.\n",
    "        Number of clients {self.num_of_clients}.\"\"\")\n",
    "    \n",
    "    def sup_health_insurance(self,age,chronic_disease,income):\n",
    "        if age >= 60 and chronic_disease == True and income < 6000:\n",
    "            print('We are sorry! You are not eligible for suplemantal health insurance.')\n",
    "        elif age < 60 and chronic_disease == False and income >= 6000:\n",
    "            print('Congrat! You are eligible for suplemantal health insurance.')\n",
    "    \n",
    "    def update_num_clients(self,new_num):\n",
    "        self.num_of_clients = new_num\n",
    "        print(f'Number of clients has been to {self.num_of_clients}')"
   ]
  },
  {
   "cell_type": "code",
   "execution_count": 4,
   "id": "98f91d0d",
   "metadata": {},
   "outputs": [],
   "source": [
    "HI1 = HealthInsurance('Caferoglu',1970,'Azmi','For you','15','10000')"
   ]
  },
  {
   "cell_type": "code",
   "execution_count": 3,
   "id": "e9fd6847",
   "metadata": {},
   "outputs": [
    {
     "name": "stdout",
     "output_type": "stream",
     "text": [
      "We are sorry! You are not eligible for suplemantal health insurance.\n"
     ]
    }
   ],
   "source": [
    "HI1.sup_health_insurance(70,True,5000)"
   ]
  },
  {
   "cell_type": "code",
   "execution_count": 6,
   "id": "7e7790fd",
   "metadata": {},
   "outputs": [
    {
     "name": "stdout",
     "output_type": "stream",
     "text": [
      "The company name Caferoglu was founded in 1970.\n",
      "        The founder of the company Azmi.\n",
      "        Company slogan is 'For you'.\n",
      "        Number of employees 15.\n",
      "        Number of clients 10000.\n"
     ]
    }
   ],
   "source": [
    "HI1.printReport()"
   ]
  },
  {
   "cell_type": "code",
   "execution_count": 7,
   "id": "ce24d182",
   "metadata": {},
   "outputs": [
    {
     "name": "stdout",
     "output_type": "stream",
     "text": [
      "Number of clients has been to 15000\n"
     ]
    }
   ],
   "source": [
    "HI1.update_num_clients(15000)"
   ]
  },
  {
   "cell_type": "code",
   "execution_count": 8,
   "id": "1323949a",
   "metadata": {},
   "outputs": [
    {
     "name": "stdout",
     "output_type": "stream",
     "text": [
      "The company name Caferoglu was founded in 1970.\n",
      "        The founder of the company Azmi.\n",
      "        Company slogan is 'For you'.\n",
      "        Number of employees 15.\n",
      "        Number of clients 15000.\n"
     ]
    }
   ],
   "source": [
    "HI1.printReport()"
   ]
  }
 ],
 "metadata": {
  "kernelspec": {
   "display_name": "Python 3 (ipykernel)",
   "language": "python",
   "name": "python3"
  },
  "language_info": {
   "codemirror_mode": {
    "name": "ipython",
    "version": 3
   },
   "file_extension": ".py",
   "mimetype": "text/x-python",
   "name": "python",
   "nbconvert_exporter": "python",
   "pygments_lexer": "ipython3",
   "version": "3.9.12"
  }
 },
 "nbformat": 4,
 "nbformat_minor": 5
}
