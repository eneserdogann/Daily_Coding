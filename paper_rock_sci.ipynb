{
 "cells": [
  {
   "cell_type": "code",
   "execution_count": 1,
   "id": "62576f38",
   "metadata": {},
   "outputs": [],
   "source": [
    "import random"
   ]
  },
  {
   "cell_type": "code",
   "execution_count": 2,
   "id": "9d10f258",
   "metadata": {},
   "outputs": [],
   "source": [
    "actions = ['paper','rock','scissors']"
   ]
  },
  {
   "cell_type": "code",
   "execution_count": null,
   "id": "3f3328ea",
   "metadata": {},
   "outputs": [],
   "source": [
    "round_count=0\n",
    "player_count=0\n",
    "computer_count=0"
   ]
  },
  {
   "cell_type": "code",
   "execution_count": 7,
   "id": "91d0999d",
   "metadata": {},
   "outputs": [
    {
     "name": "stdout",
     "output_type": "stream",
     "text": [
      "please enter round size4\n"
     ]
    }
   ],
   "source": [
    "round_size = input('please enter round size')"
   ]
  },
  {
   "cell_type": "code",
   "execution_count": null,
   "id": "50cb3ff1",
   "metadata": {},
   "outputs": [],
   "source": [
    "while round_count=4:\n",
    "    round_count += 1\n",
    "    player_choice = input('Enter an action')\n",
    "    computer_choice = random.choice(actions)\n",
    "    \n",
    "    if computer_choice == 'paper':\n",
    "        if player_choice == 'rock':\n",
    "            print('computer win :', computer_choice, ' : ' , player_choice)\n",
    "            computer_count += 1\n",
    "        else:\n",
    "            print('player win :', computer_choice, ' : ' , player_choice)\n",
    "            player_count += 1\n",
    "    elif computer_choice == 'rock':\n",
    "        if player_choice == 'paper':\n",
    "            print('player win : ' , computer_choice, ' : ' , player_choice)\n",
    "            player_count += 1\n",
    "        else:\n",
    "            print('computer win :', computer_choice, ' : ' , player_choice)\n",
    "            computer_count += 1\n",
    "    elif computer_choice == 'scissors':\n",
    "        if player_choice == 'paper':\n",
    "            print('computer win :', computer_choice, ' : ' , player_choice)\n",
    "            computer_count += 1\n",
    "        else:\n",
    "            print('player win :', computer_choice, ' : ' , player_choice)\n",
    "            player_count += 1\n",
    "            \n",
    "    if round_count == int(round_size):\n",
    "        break\n",
    "\n",
    "print('Game is over . Computer score :', computer_count , ' Players score: ', player_count)"
   ]
  },
  {
   "cell_type": "code",
   "execution_count": null,
   "id": "05346c11",
   "metadata": {},
   "outputs": [],
   "source": []
  },
  {
   "cell_type": "code",
   "execution_count": null,
   "id": "a869deed",
   "metadata": {},
   "outputs": [],
   "source": []
  },
  {
   "cell_type": "code",
   "execution_count": null,
   "id": "da218cef",
   "metadata": {},
   "outputs": [],
   "source": []
  },
  {
   "cell_type": "code",
   "execution_count": null,
   "id": "4380de5d",
   "metadata": {},
   "outputs": [],
   "source": []
  },
  {
   "cell_type": "code",
   "execution_count": null,
   "id": "565e4bbb",
   "metadata": {},
   "outputs": [],
   "source": []
  },
  {
   "cell_type": "code",
   "execution_count": null,
   "id": "1c660c0f",
   "metadata": {},
   "outputs": [],
   "source": []
  },
  {
   "cell_type": "code",
   "execution_count": null,
   "id": "55c62e46",
   "metadata": {},
   "outputs": [],
   "source": []
  },
  {
   "cell_type": "code",
   "execution_count": null,
   "id": "b7e93d45",
   "metadata": {},
   "outputs": [],
   "source": []
  },
  {
   "cell_type": "code",
   "execution_count": null,
   "id": "9f32ae9e",
   "metadata": {},
   "outputs": [],
   "source": []
  },
  {
   "cell_type": "code",
   "execution_count": null,
   "id": "d80a6be7",
   "metadata": {},
   "outputs": [],
   "source": []
  }
 ],
 "metadata": {
  "kernelspec": {
   "display_name": "Python 3 (ipykernel)",
   "language": "python",
   "name": "python3"
  },
  "language_info": {
   "codemirror_mode": {
    "name": "ipython",
    "version": 3
   },
   "file_extension": ".py",
   "mimetype": "text/x-python",
   "name": "python",
   "nbconvert_exporter": "python",
   "pygments_lexer": "ipython3",
   "version": "3.9.12"
  }
 },
 "nbformat": 4,
 "nbformat_minor": 5
}
