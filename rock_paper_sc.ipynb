{
 "cells": [
  {
   "cell_type": "code",
   "execution_count": 3,
   "id": "b2799da4",
   "metadata": {},
   "outputs": [],
   "source": [
    "import random"
   ]
  },
  {
   "cell_type": "code",
   "execution_count": 4,
   "id": "24013a8b",
   "metadata": {},
   "outputs": [],
   "source": [
    "actions = ['paper','rock','scissors']"
   ]
  },
  {
   "cell_type": "code",
   "execution_count": 5,
   "id": "27d53b68",
   "metadata": {},
   "outputs": [],
   "source": [
    "round_count=0\n",
    "player_count=0\n",
    "computer_count=0"
   ]
  },
  {
   "cell_type": "code",
   "execution_count": 7,
   "id": "3f1b6ea1",
   "metadata": {},
   "outputs": [
    {
     "name": "stdout",
     "output_type": "stream",
     "text": [
      "please enter round size5\n",
      "Enter an actionrock\n",
      "computer win : rock  :  rock\n",
      "Enter an actionpaper\n",
      "computer win : scissors  :  paper\n",
      "Enter an action5\n",
      "computer win : rock  :  5\n",
      "Enter an actionj\n",
      "player win : scissors  :  j\n",
      "Enter an actionhgj\n",
      "player win : scissors  :  hgj\n",
      "Game is over . Computer score : 3  Players score:  2\n"
     ]
    }
   ],
   "source": [
    "round_size = input('please enter round size')\n",
    "\n",
    "while True:\n",
    "    round_count += 1\n",
    "    player_choice = input('Enter an action')\n",
    "    computer_choice = random.choice(actions)\n",
    "    \n",
    "    if computer_choice == 'paper':\n",
    "        if player_choice == 'rock':\n",
    "            print('computer win :', computer_choice, ' : ' , player_choice)\n",
    "            computer_count += 1\n",
    "        else:\n",
    "            print('player win :', computer_choice, ' : ' , player_choice)\n",
    "            player_count += 1\n",
    "    elif computer_choice == 'rock':\n",
    "        if player_choice == 'paper':\n",
    "            print('player win : ' , computer_choice, ' : ' , player_choice)\n",
    "            player_count += 1\n",
    "        else:\n",
    "            print('computer win :', computer_choice, ' : ' , player_choice)\n",
    "            computer_count += 1\n",
    "    elif computer_choice == 'scissors':\n",
    "        if player_choice == 'paper':\n",
    "            print('computer win :', computer_choice, ' : ' , player_choice)\n",
    "            computer_count += 1\n",
    "        else:\n",
    "            print('player win :', computer_choice, ' : ' , player_choice)\n",
    "            player_count += 1\n",
    "            \n",
    "    if round_count == int(round_size):\n",
    "        break\n",
    "\n",
    "print('Game is over . Computer score :', computer_count , ' Players score: ', player_count)"
   ]
  },
  {
   "cell_type": "code",
   "execution_count": null,
   "id": "6f7e9868",
   "metadata": {},
   "outputs": [],
   "source": []
  },
  {
   "cell_type": "code",
   "execution_count": null,
   "id": "9ff28bbf",
   "metadata": {},
   "outputs": [],
   "source": []
  },
  {
   "cell_type": "code",
   "execution_count": null,
   "id": "051ca9e4",
   "metadata": {},
   "outputs": [],
   "source": []
  }
 ],
 "metadata": {
  "kernelspec": {
   "display_name": "Python 3 (ipykernel)",
   "language": "python",
   "name": "python3"
  },
  "language_info": {
   "codemirror_mode": {
    "name": "ipython",
    "version": 3
   },
   "file_extension": ".py",
   "mimetype": "text/x-python",
   "name": "python",
   "nbconvert_exporter": "python",
   "pygments_lexer": "ipython3",
   "version": "3.9.12"
  }
 },
 "nbformat": 4,
 "nbformat_minor": 5
}
